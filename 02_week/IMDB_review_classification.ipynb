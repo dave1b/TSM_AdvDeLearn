{
 "cells": [
  {
   "cell_type": "markdown",
   "id": "e4291daa-e8ea-4475-a1bf-96833fa13a82",
   "metadata": {},
   "source": [
    "# RNNs and sequence processing\n",
    "\n",
    "## Tutorial and homework 1: Sentiment Analysis\n",
    "\n",
    "We will look at a simple example of sequence processing in sentiment analysis. Sentiment analysis is used to determine the emotion in a text. \n",
    "\n",
    "We will use a data set from IMDB consisting of movie reviews and are only interested if they are positive or negative (http://ai.stanford.edu/~amaas/data/sentiment/)\n",
    "\n",
    "In addition to the libraries installed last time, we will also neet torchtext and datasets: \n",
    "\n",
    "pip install torchtext\n",
    "pip install datasets"
   ]
  },
  {
   "cell_type": "code",
   "id": "ffb3bca6-8711-4bd1-a54c-eae0a4966c19",
   "metadata": {
    "ExecuteTime": {
     "end_time": "2024-10-08T19:59:18.603275Z",
     "start_time": "2024-10-08T19:59:17.158318Z"
    }
   },
   "source": [
    "import collections\n",
    "import math\n",
    "import os\n",
    "import pickle\n",
    "import datasets\n",
    "import matplotlib.pyplot as plt\n",
    "import numpy as np\n",
    "import torch\n",
    "import torch.nn as nn\n",
    "import torch.optim as optim\n",
    "import torchtext\n",
    "import tqdm\n",
    "import torchtext.data\n",
    "import torchtext.vocab"
   ],
   "outputs": [
    {
     "name": "stderr",
     "output_type": "stream",
     "text": [
      "/Users/davebrunner/.local/share/virtualenvs/TSM_AdvDeLearn-rvOKaA_d/lib/python3.12/site-packages/tqdm/auto.py:21: TqdmWarning: IProgress not found. Please update jupyter and ipywidgets. See https://ipywidgets.readthedocs.io/en/stable/user_install.html\n",
      "  from .autonotebook import tqdm as notebook_tqdm\n"
     ]
    }
   ],
   "execution_count": 1
  },
  {
   "cell_type": "code",
   "id": "f4f9cb30-946b-45b8-9531-9984249cfa3b",
   "metadata": {
    "ExecuteTime": {
     "end_time": "2024-10-08T19:59:18.613789Z",
     "start_time": "2024-10-08T19:59:18.612358Z"
    }
   },
   "source": [
    "# should be version 0.18.0\n",
    "print(torchtext.__version__)"
   ],
   "outputs": [],
   "execution_count": 2
  },
  {
   "cell_type": "code",
   "id": "71c9077d-ddea-4a6c-9a65-4f45814e2295",
   "metadata": {
    "ExecuteTime": {
     "end_time": "2024-10-08T19:59:18.688294Z",
     "start_time": "2024-10-08T19:59:18.684245Z"
    }
   },
   "source": [
    "seed = 1234\n",
    "\n",
    "np.random.seed(seed)\n",
    "torch.manual_seed(seed)\n",
    "# torch.cuda.manual_seed(seed)\n",
    "# torch.backends.cudnn.deterministic = True"
   ],
   "outputs": [
    {
     "data": {
      "text/plain": [
       "<torch._C.Generator at 0x1221b7450>"
      ]
     },
     "execution_count": 3,
     "metadata": {},
     "output_type": "execute_result"
    }
   ],
   "execution_count": 3
  },
  {
   "cell_type": "markdown",
   "id": "d5969ca5-546f-4b87-b0fe-59caa38f2e80",
   "metadata": {},
   "source": [
    "### Loading and Preprocessing the IMDb Dataset\n",
    "\n",
    "We’ll use datasets to load and preprocess the IMDb dataset (it is also available from torchtext)\n",
    "- TorchText makes it easy to handle text data, including tokenization, padding, and batch generation.\n",
    "- IMDB Dataset consists of movie reviews labeled as positive or negative."
   ]
  },
  {
   "cell_type": "code",
   "id": "cbb8a673-db3f-4a5b-bb24-35d98aafe6af",
   "metadata": {
    "ExecuteTime": {
     "end_time": "2024-10-08T19:59:23.691405Z",
     "start_time": "2024-10-08T19:59:18.703556Z"
    }
   },
   "source": [
    "train_data, test_data = datasets.load_dataset(\"imdb\", split=[\"train\", \"test\"])"
   ],
   "outputs": [],
   "execution_count": 4
  },
  {
   "cell_type": "markdown",
   "id": "f344b68f-b677-494c-9cae-bf066f0d401a",
   "metadata": {},
   "source": [
    "### Tokenizer\n",
    "We will use a tokinizer to split the sentences in words. This tokenizer will normalize english text first and then extract the words."
   ]
  },
  {
   "cell_type": "code",
   "id": "4645d12b-a223-433f-94be-5dfb6f6db617",
   "metadata": {
    "ExecuteTime": {
     "end_time": "2024-10-08T19:59:23.749841Z",
     "start_time": "2024-10-08T19:59:23.695562Z"
    }
   },
   "source": [
    "tokenizer = torchtext.data.utils.get_tokenizer(\"basic_english\")"
   ],
   "outputs": [
    {
     "ename": "NameError",
     "evalue": "name 'torchtext' is not defined",
     "output_type": "error",
     "traceback": [
      "\u001B[0;31m---------------------------------------------------------------------------\u001B[0m",
      "\u001B[0;31mNameError\u001B[0m                                 Traceback (most recent call last)",
      "Cell \u001B[0;32mIn[5], line 1\u001B[0m\n\u001B[0;32m----> 1\u001B[0m tokenizer \u001B[38;5;241m=\u001B[39m \u001B[43mtorchtext\u001B[49m\u001B[38;5;241m.\u001B[39mdata\u001B[38;5;241m.\u001B[39mutils\u001B[38;5;241m.\u001B[39mget_tokenizer(\u001B[38;5;124m\"\u001B[39m\u001B[38;5;124mbasic_english\u001B[39m\u001B[38;5;124m\"\u001B[39m)\n",
      "\u001B[0;31mNameError\u001B[0m: name 'torchtext' is not defined"
     ]
    }
   ],
   "execution_count": 5
  },
  {
   "cell_type": "code",
   "id": "d5a90d26-54cc-4020-ac4c-7a454d84723b",
   "metadata": {
    "ExecuteTime": {
     "end_time": "2024-10-08T19:59:23.766149Z",
     "start_time": "2024-10-08T19:45:11.621584Z"
    }
   },
   "source": [
    "def tokenize_example(example, tokenizer, max_length):\n",
    "    tokens = tokenizer(example[\"text\"])[:max_length]\n",
    "    length = len(tokens)\n",
    "    return {\"tokens\": tokens, \"length\": length}"
   ],
   "outputs": [],
   "execution_count": 6
  },
  {
   "cell_type": "markdown",
   "id": "60ffea7b-20d1-41e4-a3f9-e0e2283d6079",
   "metadata": {},
   "source": [
    "### Token sequence\n",
    "This will transfer the input data into sequences of words of a maximal length. While the model does not require the sequences to have the same length, it is needed for batch processing later.\n",
    "\n",
    "We then split the data sets."
   ]
  },
  {
   "cell_type": "code",
   "id": "e4ddde67-d79b-4dab-b7e1-b0b1d07b5e03",
   "metadata": {
    "ExecuteTime": {
     "end_time": "2024-10-08T19:59:23.766197Z",
     "start_time": "2024-10-08T19:45:11.626383Z"
    }
   },
   "source": [
    "max_length = 256\n",
    "\n",
    "train_data = train_data.map(\n",
    "    tokenize_example, fn_kwargs={\"tokenizer\": tokenizer, \"max_length\": max_length}\n",
    ")\n",
    "test_data = test_data.map(\n",
    "    tokenize_example, fn_kwargs={\"tokenizer\": tokenizer, \"max_length\": max_length}\n",
    ")"
   ],
   "outputs": [],
   "execution_count": 7
  },
  {
   "cell_type": "code",
   "id": "2244709b-2255-409a-ad96-812d7dcf6230",
   "metadata": {
    "ExecuteTime": {
     "end_time": "2024-10-08T19:59:23.766229Z",
     "start_time": "2024-10-08T19:45:11.634875Z"
    }
   },
   "source": [
    "test_size = 0.25\n",
    "\n",
    "train_valid_data = train_data.train_test_split(test_size=test_size)\n",
    "train_data = train_valid_data[\"train\"]\n",
    "valid_data = train_valid_data[\"test\"]"
   ],
   "outputs": [],
   "execution_count": 8
  },
  {
   "cell_type": "markdown",
   "id": "2d8c86b2-84da-485f-8aea-4320a151ce36",
   "metadata": {},
   "source": [
    "### Vocabulary\n",
    "\n",
    "Next we build the vocabulary of all words in the set and add two special \"words\" for unknown and padding."
   ]
  },
  {
   "cell_type": "code",
   "id": "da1ac450-e307-4c44-91c1-1355a12c91d7",
   "metadata": {
    "ExecuteTime": {
     "end_time": "2024-10-08T19:59:23.766256Z",
     "start_time": "2024-10-08T19:45:11.641498Z"
    }
   },
   "source": [
    "min_freq = 5\n",
    "special_tokens = [\"<unk>\", \"<pad>\"]\n",
    "\n",
    "vocab = torchtext.vocab.build_vocab_from_iterator(\n",
    "    train_data[\"tokens\"],\n",
    "    min_freq=min_freq,\n",
    "    specials=special_tokens,\n",
    ")\n",
    "\n",
    "unk_index = vocab[\"<unk>\"]\n",
    "pad_index = vocab[\"<pad>\"]\n",
    "\n",
    "vocab.set_default_index(unk_index)"
   ],
   "outputs": [],
   "execution_count": 9
  },
  {
   "cell_type": "code",
   "id": "6a89ad0c-521d-406c-b657-2b457795b73a",
   "metadata": {
    "ExecuteTime": {
     "end_time": "2024-10-08T19:59:23.766333Z",
     "start_time": "2024-10-08T19:45:13.224890Z"
    }
   },
   "source": [
    "def numericalize_example(example, vocab):\n",
    "    ids = vocab.lookup_indices(example[\"tokens\"])\n",
    "    return {\"ids\": ids}"
   ],
   "outputs": [],
   "execution_count": 10
  },
  {
   "cell_type": "code",
   "id": "ac783c13-40ef-49e5-873d-2030eceb5429",
   "metadata": {
    "ExecuteTime": {
     "end_time": "2024-10-08T19:59:23.766352Z",
     "start_time": "2024-10-08T19:45:13.229545Z"
    }
   },
   "source": [
    "train_data = train_data.map(numericalize_example, fn_kwargs={\"vocab\": vocab})\n",
    "valid_data = valid_data.map(numericalize_example, fn_kwargs={\"vocab\": vocab})\n",
    "test_data = test_data.map(numericalize_example, fn_kwargs={\"vocab\": vocab})"
   ],
   "outputs": [],
   "execution_count": 11
  },
  {
   "cell_type": "code",
   "id": "8323344c-4c4b-4970-b503-85bbec3bcfb4",
   "metadata": {
    "ExecuteTime": {
     "end_time": "2024-10-08T19:59:23.766371Z",
     "start_time": "2024-10-08T19:45:13.279992Z"
    }
   },
   "source": [
    "train_data = train_data.with_format(type=\"torch\", columns=[\"ids\", \"label\", \"length\"])\n",
    "valid_data = valid_data.with_format(type=\"torch\", columns=[\"ids\", \"label\", \"length\"])\n",
    "test_data = test_data.with_format(type=\"torch\", columns=[\"ids\", \"label\", \"length\"])"
   ],
   "outputs": [],
   "execution_count": 12
  },
  {
   "cell_type": "code",
   "id": "4cfc2446-cff7-4f44-bc23-08570a39ec31",
   "metadata": {
    "ExecuteTime": {
     "end_time": "2024-10-08T19:59:23.766391Z",
     "start_time": "2024-10-08T19:45:13.290497Z"
    }
   },
   "source": [
    "train_data[0]"
   ],
   "outputs": [
    {
     "data": {
      "text/plain": [
       "{'label': tensor(1),\n",
       " 'length': tensor(135),\n",
       " 'ids': tensor([  180,     4,    14,    10,   191,   841,    34,     7,     2,   121,\n",
       "            98,   816,    50,     8,  1516,     2,   380,     7,     2,   184,\n",
       "             3,     8,   805,    14,    18,    10,     8,   805,  2246,   429,\n",
       "             3,    12,   347,    15,     2,   388,  1025,     9,    16,    76,\n",
       "             5,    64,     7, 11198,     3,     2,  9212,    17,   761,     4,\n",
       "          7812,  5460,   198,    37,     4,     6,  3653,  3683,    17,   226,\n",
       "             5, 11893,     3,    53,     7,    15,  3310,   354,     5,   689,\n",
       "             4,     0,  5471,     3,  2706,  3826,     9,    16,   246,    13,\n",
       "            14,    18,  1111,    33,    17,   126,   188,     8,    35,   597,\n",
       "           181,    19,     5,    34,  3942,  1381,    13,     2,  5370,     3,\n",
       "            32,  4228,    10,    41,  2825,     8,    37,     3,     2,  4411,\n",
       "          1141,   213,  2655,     6, 16946,  3729,   590,  4845,     8,  2416,\n",
       "             6,  1953,     3,  1159, 20751,    10,     5,  8718,     3,   149,\n",
       "            74,    14,    18,  4292,    36])}"
      ]
     },
     "execution_count": 13,
     "metadata": {},
     "output_type": "execute_result"
    }
   ],
   "execution_count": 13
  },
  {
   "cell_type": "markdown",
   "id": "512352f1-7b44-4d98-92b3-4d3bc1f3a89c",
   "metadata": {},
   "source": [
    "### Creating Batches\n",
    "\n",
    "Next we create batches out of the data with the same length and store the indices, actual length and label in the batch."
   ]
  },
  {
   "cell_type": "code",
   "id": "56911a3d-9224-45e4-8885-b802954e274e",
   "metadata": {
    "ExecuteTime": {
     "end_time": "2024-10-08T19:59:23.766455Z",
     "start_time": "2024-10-08T19:45:13.312896Z"
    }
   },
   "source": [
    "def get_collate_fn(pad_index):\n",
    "    def collate_fn(batch):\n",
    "        batch_ids = [i[\"ids\"] for i in batch]\n",
    "        batch_ids = nn.utils.rnn.pad_sequence(\n",
    "            batch_ids, padding_value=pad_index, batch_first=True\n",
    "        )\n",
    "        batch_length = [i[\"length\"] for i in batch]\n",
    "        batch_length = torch.stack(batch_length)\n",
    "        batch_label = [i[\"label\"] for i in batch]\n",
    "        batch_label = torch.stack(batch_label)\n",
    "        batch = {\"ids\": batch_ids, \"length\": batch_length, \"label\": batch_label}\n",
    "        return batch\n",
    "\n",
    "    return collate_fn"
   ],
   "outputs": [],
   "execution_count": 14
  },
  {
   "cell_type": "code",
   "id": "fc932aea-0a2d-4a22-a655-59bbe048027b",
   "metadata": {
    "ExecuteTime": {
     "end_time": "2024-10-08T19:59:23.766478Z",
     "start_time": "2024-10-08T19:45:13.320772Z"
    }
   },
   "source": [
    "def get_data_loader(dataset, batch_size, pad_index, shuffle=False):\n",
    "    collate_fn = get_collate_fn(pad_index)\n",
    "    data_loader = torch.utils.data.DataLoader(\n",
    "        dataset=dataset,\n",
    "        batch_size=batch_size,\n",
    "        collate_fn=collate_fn,\n",
    "        shuffle=shuffle,\n",
    "    )\n",
    "    return data_loader"
   ],
   "outputs": [],
   "execution_count": 15
  },
  {
   "cell_type": "code",
   "id": "a1293e9a-2682-4cd8-9bf2-9bebcfa9edf9",
   "metadata": {
    "ExecuteTime": {
     "end_time": "2024-10-08T19:59:23.766501Z",
     "start_time": "2024-10-08T19:45:13.325509Z"
    }
   },
   "source": [
    "batch_size = 384\n",
    "\n",
    "train_data_loader = get_data_loader(train_data, batch_size, pad_index, shuffle=True)\n",
    "valid_data_loader = get_data_loader(valid_data, batch_size, pad_index)\n",
    "test_data_loader = get_data_loader(test_data, batch_size, pad_index)"
   ],
   "outputs": [],
   "execution_count": 16
  },
  {
   "cell_type": "markdown",
   "id": "ff3247b2-ec26-43ee-9506-83676edff0ed",
   "metadata": {},
   "source": [
    "### RNN Model\n",
    "\n",
    "Now we can build a model, we will use a RNN Model first. It includes\n",
    "\n",
    "- Embedding Layer: Turns words into dense vectors.\n",
    "- RNN Layer: A simple recurrent layer to capture sequence information.\n",
    "- Fully Connected Layer: To classify the output."
   ]
  },
  {
   "cell_type": "code",
   "id": "0ec9c695-3f42-474d-952b-8e56cfa1d299",
   "metadata": {
    "ExecuteTime": {
     "end_time": "2024-10-08T19:59:23.766524Z",
     "start_time": "2024-10-08T19:45:13.330790Z"
    }
   },
   "source": [
    "class RNN(nn.Module):\n",
    "    def __init__(self, vocab_size, embedding_dim, hidden_dim, output_dim, n_layers,\n",
    "                 bidirectional, dropout, pad_idx):\n",
    "        super().__init__()\n",
    "\n",
    "        self.embedding = nn.Embedding(vocab_size, embedding_dim, padding_idx=pad_idx)\n",
    "        self.rnn = nn.RNN(embedding_dim, hidden_dim, num_layers=n_layers,\n",
    "                          bidirectional=bidirectional, dropout=dropout, batch_first=True)\n",
    "        self.fc = nn.Linear(hidden_dim * 2 if bidirectional else hidden_dim, output_dim)\n",
    "        self.dropout = nn.Dropout(dropout)\n",
    "\n",
    "    def forward(self, ids, length):\n",
    "        # ids = [batch size, seq len]\n",
    "        # length = [batch size]\n",
    "        embedded = self.dropout(self.embedding(ids))\n",
    "        # embedded = [batch size, seq len, embedding dim]\n",
    "        packed_embedded = nn.utils.rnn.pack_padded_sequence(\n",
    "            embedded, length, batch_first=True, enforce_sorted=False\n",
    "        )\n",
    "        packed_output, hidden = self.rnn(packed_embedded)\n",
    "        # hidden = [n layers * n directions, batch size, hidden dim]\n",
    "\n",
    "        output, output_length = nn.utils.rnn.pad_packed_sequence(packed_output)\n",
    "        # output = [batch size, seq len, hidden dim * n directions]\n",
    "        if self.rnn.bidirectional:\n",
    "            hidden = self.dropout(torch.cat([hidden[-1], hidden[-2]], dim=-1))\n",
    "            # hidden = [batch size, hidden dim * 2]\n",
    "        else:\n",
    "            hidden = self.dropout(hidden[-1])\n",
    "            # hidden = [batch size, hidden dim]\n",
    "        prediction = self.fc(hidden)\n",
    "        # prediction = [batch size, output dim]\n",
    "        return prediction\n"
   ],
   "outputs": [],
   "execution_count": 17
  },
  {
   "cell_type": "code",
   "id": "f04f6041-9a3a-45b2-9f74-096205180508",
   "metadata": {
    "ExecuteTime": {
     "end_time": "2024-10-08T19:59:23.766547Z",
     "start_time": "2024-10-08T19:45:13.336487Z"
    }
   },
   "source": [
    "vocab_size = len(vocab)\n",
    "embedding_dim = 300\n",
    "hidden_dim = 300\n",
    "output_dim = len(train_data.unique(\"label\"))\n",
    "n_layers = 2\n",
    "bidirectional = True\n",
    "dropout_rate = 0.5\n",
    "\n",
    "model = RNN(\n",
    "    vocab_size,\n",
    "    embedding_dim,\n",
    "    hidden_dim,\n",
    "    output_dim,\n",
    "    n_layers,\n",
    "    bidirectional,\n",
    "    dropout_rate,\n",
    "    pad_index,\n",
    ")"
   ],
   "outputs": [],
   "execution_count": 18
  },
  {
   "cell_type": "code",
   "id": "815bd833-5744-4562-8300-a528502b2698",
   "metadata": {
    "ExecuteTime": {
     "end_time": "2024-10-08T19:59:23.766571Z",
     "start_time": "2024-10-08T19:45:13.399981Z"
    }
   },
   "source": [
    "def count_parameters(model):\n",
    "    return sum(p.numel() for p in model.parameters() if p.requires_grad)\n",
    "\n",
    "\n",
    "print(f\"The model has {count_parameters(model):,} trainable parameters\")"
   ],
   "outputs": [
    {
     "name": "stdout",
     "output_type": "stream",
     "text": [
      "The model has 7,394,102 trainable parameters\n"
     ]
    }
   ],
   "execution_count": 19
  },
  {
   "cell_type": "markdown",
   "id": "7b443ae8-14b2-4d83-b1ed-6f24c0eb41aa",
   "metadata": {},
   "source": [
    "### Pretrained embeddings\n",
    "\n",
    "The model will learn the embeddings too, which is a bit difficult from the limited data. Results will be much better if a pretrained model is used for that.\n",
    "\n",
    "We will use glove (https://nlp.stanford.edu/projects/glove/)\n",
    "\n",
    "The following code will download and cache the vectors. The data set is quite large so you can also omit this first..."
   ]
  },
  {
   "cell_type": "code",
   "id": "00a7bb71-a00e-48cf-8d5e-3c317c372d7f",
   "metadata": {
    "ExecuteTime": {
     "end_time": "2024-10-08T19:59:23.766594Z",
     "start_time": "2024-10-08T19:45:13.415242Z"
    }
   },
   "source": [
    "vectors = torchtext.vocab.GloVe()"
   ],
   "outputs": [],
   "execution_count": 20
  },
  {
   "metadata": {
    "ExecuteTime": {
     "end_time": "2024-10-08T19:59:23.766614Z",
     "start_time": "2024-10-08T19:45:14.444030Z"
    }
   },
   "cell_type": "code",
   "source": [
    "pretrained_embedding = vectors.get_vecs_by_tokens(vocab.get_itos())\n",
    "model.embedding.weight.data = pretrained_embedding\n",
    "del vectors"
   ],
   "id": "464211c9-4db4-4e77-8455-70f83212b0ba",
   "outputs": [],
   "execution_count": 21
  },
  {
   "cell_type": "markdown",
   "id": "c5f737cf-b571-4e17-a6db-e1807380c98c",
   "metadata": {},
   "source": [
    "### Train function\n",
    "Next we need the functions to train and evaluate the model."
   ]
  },
  {
   "cell_type": "code",
   "id": "13e87cdf-4ee3-4afd-82aa-7f1f362c68f9",
   "metadata": {
    "ExecuteTime": {
     "end_time": "2024-10-08T19:59:23.766634Z",
     "start_time": "2024-10-08T19:45:14.544124Z"
    }
   },
   "source": [
    "def train(dataloader, model, criterion, optimizer, device):\n",
    "    model.to(device)\n",
    "    model.train()\n",
    "    epoch_losses = []\n",
    "    epoch_accs = []\n",
    "    for batch in tqdm.tqdm(dataloader, desc=\"training...\"):\n",
    "        ids = batch[\"ids\"].to(device)\n",
    "        length = batch[\"length\"]\n",
    "        label = batch[\"label\"].to(device)\n",
    "        prediction = model(ids, length)\n",
    "        loss = criterion(prediction, label)\n",
    "        accuracy = get_accuracy(prediction, label)\n",
    "        optimizer.zero_grad()\n",
    "        loss.backward()\n",
    "        optimizer.step()\n",
    "        epoch_losses.append(loss.item())\n",
    "        epoch_accs.append(accuracy.item())\n",
    "    return np.mean(epoch_losses), np.mean(epoch_accs)\n",
    "\n",
    "\n",
    "def evaluate(dataloader, model, criterion, device):\n",
    "    model.eval()\n",
    "    epoch_losses = []\n",
    "    epoch_accs = []\n",
    "    with torch.no_grad():\n",
    "        for batch in tqdm.tqdm(dataloader, desc=\"evaluating...\"):\n",
    "            ids = batch[\"ids\"].to(device)\n",
    "            length = batch[\"length\"]\n",
    "            label = batch[\"label\"].to(device)\n",
    "            prediction = model(ids, length)\n",
    "            loss = criterion(prediction, label)\n",
    "            accuracy = get_accuracy(prediction, label)\n",
    "            epoch_losses.append(loss.item())\n",
    "            epoch_accs.append(accuracy.item())\n",
    "    return np.mean(epoch_losses), np.mean(epoch_accs)\n",
    "\n",
    "\n",
    "# calculate the accuracy, we could also use the metrics classes as in the last exercise\n",
    "def get_accuracy(prediction, label):\n",
    "    batch_size, _ = prediction.shape\n",
    "    predicted_classes = prediction.argmax(dim=-1)\n",
    "    correct_predictions = predicted_classes.eq(label).sum()\n",
    "    accuracy = correct_predictions / batch_size\n",
    "    return accuracy\n"
   ],
   "outputs": [],
   "execution_count": 22
  },
  {
   "cell_type": "markdown",
   "id": "eb4656ed-a0c0-4ee2-92fa-05149acff513",
   "metadata": {},
   "source": [
    "Construct model and train"
   ]
  },
  {
   "cell_type": "code",
   "id": "9b516650-0708-40ca-a084-28698ab1938b",
   "metadata": {
    "ExecuteTime": {
     "end_time": "2024-10-08T19:59:23.766654Z",
     "start_time": "2024-10-08T19:45:14.551493Z"
    }
   },
   "source": [
    "lr = 5e-4\n",
    "optimizer = optim.Adam(model.parameters(), lr=lr)\n",
    "criterion = nn.CrossEntropyLoss()"
   ],
   "outputs": [],
   "execution_count": 23
  },
  {
   "cell_type": "code",
   "id": "49c115c9-fd62-4a1d-99e4-dd183c7c43b1",
   "metadata": {
    "ExecuteTime": {
     "end_time": "2024-10-08T19:59:23.766673Z",
     "start_time": "2024-10-08T19:45:14.857736Z"
    }
   },
   "source": [
    "def get_device():\n",
    "    if torch.cuda.is_available():\n",
    "        device = torch.device('cuda')\n",
    "        # test if it worked\n",
    "        x = torch.ones(1, device=device)\n",
    "        print('Using CUDA device')\n",
    "\n",
    "    elif torch.backends.mps.is_available():\n",
    "        device = torch.device('mps')\n",
    "        x = torch.ones(1, device=device)\n",
    "        print('Using MPS device')\n",
    "    else:\n",
    "        print('Using CPU')\n",
    "        device = torch.device('cpu')\n",
    "    return device\n",
    "\n",
    "\n",
    "device = get_device()"
   ],
   "outputs": [
    {
     "name": "stdout",
     "output_type": "stream",
     "text": [
      "Using MPS device\n"
     ]
    }
   ],
   "execution_count": 24
  },
  {
   "cell_type": "code",
   "id": "d3eedbe0-9db9-424c-97e6-11ce731f3f53",
   "metadata": {
    "ExecuteTime": {
     "end_time": "2024-10-08T19:59:23.766697Z",
     "start_time": "2024-10-08T19:45:14.893872Z"
    }
   },
   "source": [
    "model = model.to(device)\n",
    "criterion = criterion.to(device)"
   ],
   "outputs": [],
   "execution_count": 25
  },
  {
   "metadata": {
    "ExecuteTime": {
     "end_time": "2024-10-08T19:59:23.766949Z",
     "start_time": "2024-10-08T19:45:14.933350Z"
    }
   },
   "cell_type": "code",
   "source": [
    "metrics = collections.defaultdict(list)\n",
    "n_epochs = 10\n",
    "best_valid_loss = float(\"inf\")"
   ],
   "id": "8243b9d2d8df1da3",
   "outputs": [],
   "execution_count": 26
  },
  {
   "metadata": {
    "ExecuteTime": {
     "end_time": "2024-10-08T19:59:23.767025Z",
     "start_time": "2024-10-08T19:45:14.942854Z"
    }
   },
   "cell_type": "code",
   "source": [
    "if \"rnn.pt\" in os.listdir():\n",
    "    model.load_state_dict(torch.load(\"rnn.pt\"))\n",
    "    # with open('rnn_train_metrics.pkl', 'rb') as file:\n",
    "    #     metrics = pickle.load(file)\n",
    "    print(\"Model loaded\")\n",
    "else:\n",
    "    for epoch in range(n_epochs):\n",
    "        train_loss, train_acc = train(\n",
    "            train_data_loader, model, criterion, optimizer, device\n",
    "        )\n",
    "        valid_loss, valid_acc = evaluate(valid_data_loader, model, criterion, device)\n",
    "        metrics[\"train_losses\"].append(train_loss)\n",
    "        metrics[\"train_accs\"].append(train_acc)\n",
    "        metrics[\"valid_losses\"].append(valid_loss)\n",
    "        metrics[\"valid_accs\"].append(valid_acc)\n",
    "        if valid_loss < best_valid_loss:\n",
    "            best_valid_loss = valid_loss\n",
    "            torch.save(model.state_dict(), \"rnn.pt\")\n",
    "        print(f\"epoch: {epoch}\")\n",
    "        print(f\"train_loss: {train_loss:.3f}, train_acc: {train_acc:.3f}\")\n",
    "        print(f\"valid_loss: {valid_loss:.3f}, valid_acc: {valid_acc:.3f}\")\n",
    "    # save metrics to file system\n",
    "    with open('rnn_train_metrics.pkl', 'wb') as file:\n",
    "        pickle.dump(metrics, file)"
   ],
   "id": "127e8747-2c7e-4a0c-a01c-63d5d0e3ceb5",
   "outputs": [
    {
     "name": "stderr",
     "output_type": "stream",
     "text": [
      "training...: 100%|██████████| 49/49 [04:05<00:00,  5.01s/it]\n",
      "evaluating...: 100%|██████████| 17/17 [00:03<00:00,  4.29it/s]\n"
     ]
    },
    {
     "name": "stdout",
     "output_type": "stream",
     "text": [
      "epoch: 0\n",
      "train_loss: 0.665, train_acc: 0.592\n",
      "valid_loss: 0.598, valid_acc: 0.668\n"
     ]
    },
    {
     "name": "stderr",
     "output_type": "stream",
     "text": [
      "training...:  61%|██████    | 30/49 [02:35<01:38,  5.18s/it]\n"
     ]
    },
    {
     "ename": "KeyboardInterrupt",
     "evalue": "",
     "output_type": "error",
     "traceback": [
      "\u001B[0;31m---------------------------------------------------------------------------\u001B[0m",
      "\u001B[0;31mKeyboardInterrupt\u001B[0m                         Traceback (most recent call last)",
      "Cell \u001B[0;32mIn[27], line 8\u001B[0m\n\u001B[1;32m      6\u001B[0m \u001B[38;5;28;01melse\u001B[39;00m:\n\u001B[1;32m      7\u001B[0m     \u001B[38;5;28;01mfor\u001B[39;00m epoch \u001B[38;5;129;01min\u001B[39;00m \u001B[38;5;28mrange\u001B[39m(n_epochs):\n\u001B[0;32m----> 8\u001B[0m         train_loss, train_acc \u001B[38;5;241m=\u001B[39m \u001B[43mtrain\u001B[49m\u001B[43m(\u001B[49m\n\u001B[1;32m      9\u001B[0m \u001B[43m            \u001B[49m\u001B[43mtrain_data_loader\u001B[49m\u001B[43m,\u001B[49m\u001B[43m \u001B[49m\u001B[43mmodel\u001B[49m\u001B[43m,\u001B[49m\u001B[43m \u001B[49m\u001B[43mcriterion\u001B[49m\u001B[43m,\u001B[49m\u001B[43m \u001B[49m\u001B[43moptimizer\u001B[49m\u001B[43m,\u001B[49m\u001B[43m \u001B[49m\u001B[43mdevice\u001B[49m\n\u001B[1;32m     10\u001B[0m \u001B[43m        \u001B[49m\u001B[43m)\u001B[49m\n\u001B[1;32m     11\u001B[0m         valid_loss, valid_acc \u001B[38;5;241m=\u001B[39m evaluate(valid_data_loader, model, criterion, device)\n\u001B[1;32m     12\u001B[0m         metrics[\u001B[38;5;124m\"\u001B[39m\u001B[38;5;124mtrain_losses\u001B[39m\u001B[38;5;124m\"\u001B[39m]\u001B[38;5;241m.\u001B[39mappend(train_loss)\n",
      "Cell \u001B[0;32mIn[22], line 16\u001B[0m, in \u001B[0;36mtrain\u001B[0;34m(dataloader, model, criterion, optimizer, device)\u001B[0m\n\u001B[1;32m     14\u001B[0m     loss\u001B[38;5;241m.\u001B[39mbackward()\n\u001B[1;32m     15\u001B[0m     optimizer\u001B[38;5;241m.\u001B[39mstep()\n\u001B[0;32m---> 16\u001B[0m     epoch_losses\u001B[38;5;241m.\u001B[39mappend(\u001B[43mloss\u001B[49m\u001B[38;5;241;43m.\u001B[39;49m\u001B[43mitem\u001B[49m\u001B[43m(\u001B[49m\u001B[43m)\u001B[49m)\n\u001B[1;32m     17\u001B[0m     epoch_accs\u001B[38;5;241m.\u001B[39mappend(accuracy\u001B[38;5;241m.\u001B[39mitem())\n\u001B[1;32m     18\u001B[0m \u001B[38;5;28;01mreturn\u001B[39;00m np\u001B[38;5;241m.\u001B[39mmean(epoch_losses), np\u001B[38;5;241m.\u001B[39mmean(epoch_accs)\n",
      "\u001B[0;31mKeyboardInterrupt\u001B[0m: "
     ]
    }
   ],
   "execution_count": 27
  },
  {
   "cell_type": "code",
   "id": "4c73619b-bd02-45e8-a118-5e24949f30ed",
   "metadata": {
    "ExecuteTime": {
     "end_time": "2024-10-08T19:59:23.767076Z",
     "start_time": "2024-10-08T19:39:52.665545Z"
    }
   },
   "source": [
    "fig = plt.figure(figsize=(10, 6))\n",
    "ax = fig.add_subplot(1, 1, 1)\n",
    "ax.plot(metrics[\"train_losses\"], label=\"train loss\")\n",
    "ax.plot(metrics[\"valid_losses\"], label=\"valid loss\")\n",
    "ax.set_xlabel(\"epoch\")\n",
    "ax.set_ylabel(\"loss\")\n",
    "ax.set_xticks(range(n_epochs))\n",
    "ax.legend()\n",
    "ax.grid()"
   ],
   "outputs": [
    {
     "data": {
      "text/plain": [
       "<Figure size 1000x600 with 1 Axes>"
      ],
      "image/png": "[encoded data removed]"
     },
     "metadata": {},
     "output_type": "display_data"
    }
   ],
   "execution_count": 28
  },
  {
   "cell_type": "code",
   "id": "f0d253c2-2468-44c3-a19a-b2f16218302b",
   "metadata": {
    "ExecuteTime": {
     "end_time": "2024-10-08T19:59:23.767118Z",
     "start_time": "2024-10-08T19:39:52.746123Z"
    }
   },
   "source": [
    "fig = plt.figure(figsize=(10, 6))\n",
    "ax = fig.add_subplot(1, 1, 1)\n",
    "ax.plot(metrics[\"train_accs\"], label=\"train accuracy\")\n",
    "ax.plot(metrics[\"valid_accs\"], label=\"valid accuracy\")\n",
    "ax.set_xlabel(\"epoch\")\n",
    "ax.set_ylabel(\"loss\")\n",
    "ax.set_xticks(range(n_epochs))\n",
    "ax.legend()\n",
    "ax.grid()"
   ],
   "outputs": [
    {
     "data": {
      "text/plain": [
       "<Figure size 1000x600 with 1 Axes>"
      ],
      "image/png": "[encoded data removed]"
     },
     "metadata": {},
     "output_type": "display_data"
    }
   ],
   "execution_count": 29
  },
  {
   "cell_type": "code",
   "id": "369ff282-e43d-4b8a-aadb-70f68889bb72",
   "metadata": {
    "ExecuteTime": {
     "end_time": "2024-10-08T19:59:23.767146Z",
     "start_time": "2024-10-08T19:39:52.811403Z"
    }
   },
   "source": [
    "def predict_sentiment(text, model, tokenizer, vocab, device):\n",
    "    tokens = tokenizer(text)\n",
    "    ids = vocab.lookup_indices(tokens)\n",
    "    length = torch.LongTensor([len(ids)])\n",
    "    tensor = torch.LongTensor(ids).unsqueeze(dim=0).to(device)\n",
    "    prediction = model(tensor, length).squeeze(dim=0)\n",
    "    probability = torch.softmax(prediction, dim=-1)\n",
    "    predicted_class = prediction.argmax(dim=-1).item()\n",
    "    predicted_probability = probability[predicted_class].item()\n",
    "    return predicted_class, predicted_probability"
   ],
   "outputs": [],
   "execution_count": 30
  },
  {
   "cell_type": "markdown",
   "id": "06318769-b141-4687-8eea-295a94748f8b",
   "metadata": {},
   "source": []
  },
  {
   "cell_type": "code",
   "id": "eb21eac8-0af8-4f7a-92b1-a79527efd3e2",
   "metadata": {
    "ExecuteTime": {
     "end_time": "2024-10-08T19:59:23.767167Z",
     "start_time": "2024-10-08T19:39:52.817637Z"
    }
   },
   "source": [
    "def predict_sentiment(text, model, tokenizer, vocab, device):\n",
    "    tokens = tokenizer(text)\n",
    "    ids = vocab.lookup_indices(tokens)\n",
    "    length = torch.LongTensor([len(ids)])\n",
    "    tensor = torch.LongTensor(ids).unsqueeze(dim=0).to(device)\n",
    "    prediction = model(tensor, length).squeeze(dim=0)\n",
    "    probability = torch.softmax(prediction, dim=-1)\n",
    "    predicted_class = prediction.argmax(dim=-1).item()\n",
    "    predicted_probability = probability[predicted_class].item()\n",
    "    return predicted_class, predicted_probability"
   ],
   "outputs": [],
   "execution_count": 31
  },
  {
   "metadata": {
    "ExecuteTime": {
     "end_time": "2024-10-08T19:59:23.767188Z",
     "start_time": "2024-10-08T19:39:52.827651Z"
    }
   },
   "cell_type": "code",
   "source": [
    "text = \"This film is good!\"\n",
    "\n",
    "predict_sentiment(text, model, tokenizer, vocab, device)"
   ],
   "id": "32e00135207e17e4",
   "outputs": [
    {
     "data": {
      "text/plain": [
       "(1, 0.9331856966018677)"
      ]
     },
     "execution_count": 32,
     "metadata": {},
     "output_type": "execute_result"
    }
   ],
   "execution_count": 32
  },
  {
   "metadata": {
    "ExecuteTime": {
     "end_time": "2024-10-08T19:59:23.767217Z",
     "start_time": "2024-10-08T19:39:52.913376Z"
    }
   },
   "cell_type": "code",
   "source": [
    "text = \"I have never seen something so unspectacular as this film. Its an absolute waste of time. There is no story, no acting, no nothing.\"\n",
    "\n",
    "predict_sentiment(text, model, tokenizer, vocab, device)"
   ],
   "id": "8657f84549e4334f",
   "outputs": [
    {
     "data": {
      "text/plain": [
       "(0, 0.8860769867897034)"
      ]
     },
     "execution_count": 33,
     "metadata": {},
     "output_type": "execute_result"
    }
   ],
   "execution_count": 33
  },
  {
   "metadata": {
    "ExecuteTime": {
     "end_time": "2024-10-08T19:59:23.767241Z",
     "start_time": "2024-10-08T19:39:52.966945Z"
    }
   },
   "cell_type": "code",
   "source": [
    "text = \"This film is the worst\"\n",
    "\n",
    "predict_sentiment(text, model, tokenizer, vocab, device)"
   ],
   "id": "18519fd4a0d28e10",
   "outputs": [
    {
     "data": {
      "text/plain": [
       "(1, 0.5371256470680237)"
      ]
     },
     "execution_count": 34,
     "metadata": {},
     "output_type": "execute_result"
    }
   ],
   "execution_count": 34
  },
  {
   "metadata": {
    "ExecuteTime": {
     "end_time": "2024-10-08T19:59:23.767265Z",
     "start_time": "2024-10-08T19:39:52.989042Z"
    }
   },
   "cell_type": "code",
   "source": [
    "text = \"This film is terrible!\"\n",
    "\n",
    "predict_sentiment(text, model, tokenizer, vocab, device)"
   ],
   "id": "ca8fc23a-b96e-4073-bbea-9198e5ec3e42",
   "outputs": [
    {
     "data": {
      "text/plain": [
       "(0, 0.7731751203536987)"
      ]
     },
     "execution_count": 35,
     "metadata": {},
     "output_type": "execute_result"
    }
   ],
   "execution_count": 35
  },
  {
   "cell_type": "code",
   "id": "3a43b194-c04a-41c8-8f15-5cfd4669a389",
   "metadata": {
    "ExecuteTime": {
     "end_time": "2024-10-08T19:59:23.767288Z",
     "start_time": "2024-10-08T19:39:53.016780Z"
    }
   },
   "source": [
    "text = \"This film is great!\"\n",
    "\n",
    "predict_sentiment(text, model, tokenizer, vocab, device)"
   ],
   "outputs": [
    {
     "data": {
      "text/plain": [
       "(1, 0.9474336504936218)"
      ]
     },
     "execution_count": 36,
     "metadata": {},
     "output_type": "execute_result"
    }
   ],
   "execution_count": 36
  },
  {
   "cell_type": "code",
   "id": "88b1b32b-1368-48c9-9a3b-24fb4dca7bee",
   "metadata": {
    "ExecuteTime": {
     "end_time": "2024-10-08T19:59:23.767316Z",
     "start_time": "2024-10-08T19:39:53.041769Z"
    }
   },
   "source": [
    "text = \"This film is not terrible, it's great!\"\n",
    "\n",
    "predict_sentiment(text, model, tokenizer, vocab, device)"
   ],
   "outputs": [
    {
     "data": {
      "text/plain": [
       "(1, 0.532421350479126)"
      ]
     },
     "execution_count": 37,
     "metadata": {},
     "output_type": "execute_result"
    }
   ],
   "execution_count": 37
  },
  {
   "cell_type": "code",
   "id": "9ff4b1e7-ca27-4931-b2e5-430c2b473ea8",
   "metadata": {
    "ExecuteTime": {
     "end_time": "2024-10-08T19:59:23.767340Z",
     "start_time": "2024-10-08T19:39:53.089525Z"
    }
   },
   "source": [
    "text = \"This film is not great, it's terrible!\"\n",
    "\n",
    "predict_sentiment(text, model, tokenizer, vocab, device)"
   ],
   "outputs": [
    {
     "data": {
      "text/plain": [
       "(1, 0.7172377109527588)"
      ]
     },
     "execution_count": 38,
     "metadata": {},
     "output_type": "execute_result"
    }
   ],
   "execution_count": 38
  },
  {
   "metadata": {
    "ExecuteTime": {
     "end_time": "2024-10-08T19:59:23.767363Z",
     "start_time": "2024-10-08T19:39:53.115839Z"
    }
   },
   "cell_type": "code",
   "source": [
    "text = \"What can I say? I ignored the reviews and went to see it myself. Damn the reviews were so right. What a waste of money considering it\\'s budget.<br /><br />Good thing, I went to see Kill Bill after this one.<br /><br />To see a really scary movie, would be Crossroads!<br /><br />Bottom line-- I like Girl in Gold Boots better than this crap.\"\n",
    "\n",
    "predict_sentiment(text, model, tokenizer, vocab, device)"
   ],
   "id": "568bfe139b727df5",
   "outputs": [
    {
     "data": {
      "text/plain": [
       "(0, 0.941087543964386)"
      ]
     },
     "execution_count": 39,
     "metadata": {},
     "output_type": "execute_result"
    }
   ],
   "execution_count": 39
  },
  {
   "metadata": {
    "ExecuteTime": {
     "end_time": "2024-10-08T19:59:23.767386Z",
     "start_time": "2024-10-08T19:39:53.187197Z"
    }
   },
   "cell_type": "code",
   "source": [
    "text = \"The Last Command (1928) is a silent film directed by Josef von Sternberg.It shows us Czarist General, Grand Duke Sergius Alexander (Emil Jannings) in his days of glory.In 1917 he had all the power but after the revolution and the collapse of Imperial Russia he has nothing.He also had the love of a woman, Natalie Dabrova (Evelyn Brent).About ten years later he applies for a small part in a film about the revolution.His old enemy Lev Andreyev (William Powell) is the director who gets to choose whether to hire him as a film extra or not.The Last Command is very good silent drama.Emil Jannings does memorable role work in the lead.Evelyn Brent is wonderful playing the woman lead.William Powell is great as always.There are plenty of scenes to remember in this movie.Like many scenes with Jannings and Brent.And then there is the ending with Powell and Jannings.This is a movie that touches in many parts.\"\n",
    "\n",
    "predict_sentiment(text, model, tokenizer, vocab, device)"
   ],
   "id": "1813f4d9014b5ddb",
   "outputs": [
    {
     "data": {
      "text/plain": [
       "(1, 0.9159765839576721)"
      ]
     },
     "execution_count": 40,
     "metadata": {},
     "output_type": "execute_result"
    }
   ],
   "execution_count": 40
  },
  {
   "metadata": {
    "ExecuteTime": {
     "end_time": "2024-10-08T19:59:23.767409Z",
     "start_time": "2024-10-08T19:39:56.681313Z"
    }
   },
   "cell_type": "code",
   "source": "del model, metrics",
   "id": "ce786eaf9dab0cd7",
   "outputs": [],
   "execution_count": 41
  },
  {
   "cell_type": "markdown",
   "id": "c1ca8f99-cc9a-4cdc-94ef-1cd5e0c01568",
   "metadata": {},
   "source": [
    "## Exercise 1: LSTM\n",
    "\n",
    "The model should not be bad yet (specially if pretrained embeddings are used). Can you replace the RNN with a LSTM and check the results."
   ]
  },
  {
   "cell_type": "code",
   "id": "3eeed48d-a061-4475-a01f-eb0503f191f0",
   "metadata": {
    "ExecuteTime": {
     "end_time": "2024-10-08T19:59:23.767458Z",
     "start_time": "2024-10-08T19:36:43.478719Z"
    }
   },
   "source": [
    "class LSTM(nn.Module):\n",
    "    def __init__(self, vocab_size, embedding_dim, hidden_dim, output_dim, n_layers,\n",
    "                 bidirectional, dropout, pad_idx):\n",
    "        super().__init__()\n",
    "\n",
    "        self.embedding = nn.Embedding(vocab_size, embedding_dim, padding_idx=pad_idx)\n",
    "        self.lstm = nn.LSTM(embedding_dim, hidden_dim, num_layers=n_layers,\n",
    "                            bidirectional=bidirectional, dropout=dropout, batch_first=True)\n",
    "        self.fc = nn.Linear(hidden_dim * 2 if bidirectional else hidden_dim, output_dim)\n",
    "        self.dropout = nn.Dropout(dropout)\n",
    "\n",
    "    def forward(self, ids, length):\n",
    "        # ids = [batch size, seq len]\n",
    "        # length = [batch size]\n",
    "        embedded = self.dropout(self.embedding(ids))\n",
    "        # embedded = [batch size, seq len, embedding dim]\n",
    "        packed_embedded = nn.utils.rnn.pack_padded_sequence(\n",
    "            embedded, length, batch_first=True, enforce_sorted=False\n",
    "        )\n",
    "        packed_output, (hidden, cell) = self.lstm(packed_embedded)\n",
    "        # hidden = [n layers * n directions, batch size, hidden dim]\n",
    "        # cell = [n layers * n directions, batch size, hidden dim]\n",
    "\n",
    "        output, output_length = nn.utils.rnn.pad_packed_sequence(packed_output)\n",
    "        # output = [batch size, seq len, hidden dim * n directions]\n",
    "        if self.lstm.bidirectional:\n",
    "            hidden = self.dropout(torch.cat([hidden[-1], hidden[-2]], dim=-1))\n",
    "            # hidden = [batch size, hidden dim * 2]\n",
    "        else:\n",
    "            hidden = self.dropout(hidden[-1])\n",
    "            # hidden = [batch size, hidden dim]\n",
    "        prediction = self.fc(hidden)\n",
    "        # prediction = [batch size, output dim]\n",
    "        return prediction"
   ],
   "outputs": [],
   "execution_count": 42
  },
  {
   "metadata": {
    "ExecuteTime": {
     "end_time": "2024-10-08T19:59:23.767486Z",
     "start_time": "2024-10-08T19:36:43.488617Z"
    }
   },
   "cell_type": "code",
   "source": [
    "vocab_size = len(vocab)\n",
    "embedding_dim = 300\n",
    "hidden_dim = 300\n",
    "output_dim = len(train_data.unique(\"label\"))\n",
    "n_layers = 2\n",
    "bidirectional = True\n",
    "dropout_rate = 0.5\n",
    "\n",
    "lstm = LSTM(\n",
    "    vocab_size,\n",
    "    embedding_dim,\n",
    "    hidden_dim,\n",
    "    output_dim,\n",
    "    n_layers,\n",
    "    bidirectional,\n",
    "    dropout_rate,\n",
    "    pad_index,\n",
    ")\n",
    "\n",
    "print(f\"The model has {count_parameters(lstm):,} trainable parameters\")"
   ],
   "id": "e8b222bf9918baca",
   "outputs": [
    {
     "name": "stdout",
     "output_type": "stream",
     "text": [
      "The model has 10,101,302 trainable parameters\n"
     ]
    }
   ],
   "execution_count": 43
  },
  {
   "metadata": {
    "ExecuteTime": {
     "end_time": "2024-10-08T19:59:23.767507Z",
     "start_time": "2024-10-08T19:36:43.557999Z"
    }
   },
   "cell_type": "code",
   "source": "lstm.embedding.weight.data = pretrained_embedding",
   "id": "5b933e9a40c2c538",
   "outputs": [],
   "execution_count": 44
  },
  {
   "metadata": {
    "ExecuteTime": {
     "end_time": "2024-10-08T19:59:23.767525Z",
     "start_time": "2024-10-08T19:36:43.572178Z"
    }
   },
   "cell_type": "code",
   "source": [
    "lr = 5e-4\n",
    "optimizer = optim.Adam(lstm.parameters(), lr=lr)\n",
    "criterion = nn.CrossEntropyLoss()\n",
    "\n",
    "lstm = lstm.to(device)\n",
    "criterion = criterion.to(device)\n",
    "n_epochs = 10\n",
    "best_valid_loss = float(\"inf\")\n",
    "\n",
    "metrics_lstm = collections.defaultdict(list)"
   ],
   "id": "914cb9f024d3f8d7",
   "outputs": [],
   "execution_count": 45
  },
  {
   "metadata": {
    "ExecuteTime": {
     "end_time": "2024-10-08T19:59:23.767543Z",
     "start_time": "2024-10-08T19:36:43.588716Z"
    }
   },
   "cell_type": "code",
   "source": [
    "if \"lstm.pt\" in os.listdir():\n",
    "    lstm.load_state_dict(torch.load(\"lstm.pt\"))\n",
    "    # with open('lstm_train_metrics.pkl', 'rb') as file:\n",
    "    #     metrics_lstm = pickle.load(file)\n",
    "    print(\"Model loaded\")\n",
    "else:\n",
    "    for epoch in range(n_epochs):\n",
    "        train_loss, train_acc = train(\n",
    "            train_data_loader, lstm, criterion, optimizer, device\n",
    "        )\n",
    "        valid_loss, valid_acc = evaluate(valid_data_loader, lstm, criterion, device)\n",
    "        metrics_lstm[\"train_losses\"].append(train_loss)\n",
    "        metrics_lstm[\"train_accs\"].append(train_acc)\n",
    "        metrics_lstm[\"valid_losses\"].append(valid_loss)\n",
    "        metrics_lstm[\"valid_accs\"].append(valid_acc)\n",
    "        if valid_loss < best_valid_loss:\n",
    "            best_valid_loss = valid_loss\n",
    "            torch.save(lstm.state_dict(), \"lstm.pt\")\n",
    "        print(f\"epoch: {epoch}\")\n",
    "        print(f\"train_loss: {train_loss:.3f}, train_acc: {train_acc:.3f}\")\n",
    "        print(f\"valid_loss: {valid_loss:.3f}, valid_acc: {valid_acc:.3f}\")\n",
    "    # save metrics to file system\n",
    "    with open('lstm_train_metrics.pkl', 'wb') as file:\n",
    "        pickle.dump(metrics_lstm, file)"
   ],
   "id": "2460487c8ac9dc39",
   "outputs": [
    {
     "name": "stdout",
     "output_type": "stream",
     "text": [
      "Model loaded\n"
     ]
    }
   ],
   "execution_count": 46
  },
  {
   "metadata": {
    "ExecuteTime": {
     "end_time": "2024-10-08T19:59:23.767568Z",
     "start_time": "2024-10-08T19:36:43.628498Z"
    }
   },
   "cell_type": "code",
   "source": [
    "fig = plt.figure(figsize=(10, 6))\n",
    "ax = fig.add_subplot(1, 1, 1)\n",
    "ax.plot(metrics_lstm[\"train_losses\"], label=\"train loss\")\n",
    "ax.plot(metrics_lstm[\"valid_losses\"], label=\"valid loss\")\n",
    "ax.set_xlabel(\"epoch\")\n",
    "ax.set_ylabel(\"loss\")\n",
    "ax.set_xticks(range(n_epochs))\n",
    "ax.legend()\n",
    "ax.grid()"
   ],
   "id": "cced013aa8a99924",
   "outputs": [
    {
     "data": {
      "text/plain": [
       "<Figure size 1000x600 with 1 Axes>"
      ],
      "image/png": "[encoded data removed]"
     },
     "metadata": {},
     "output_type": "display_data"
    }
   ],
   "execution_count": 47
  },
  {
   "metadata": {
    "ExecuteTime": {
     "end_time": "2024-10-08T19:59:23.767596Z",
     "start_time": "2024-10-08T19:36:43.703523Z"
    }
   },
   "cell_type": "code",
   "source": [
    "fig = plt.figure(figsize=(10, 6))\n",
    "ax = fig.add_subplot(1, 1, 1)\n",
    "ax.plot(metrics_lstm[\"train_accs\"], label=\"train accuracy\")\n",
    "ax.plot(metrics_lstm[\"valid_accs\"], label=\"valid accuracy\")\n",
    "ax.set_xlabel(\"epoch\")\n",
    "ax.set_ylabel(\"loss\")\n",
    "ax.set_xticks(range(n_epochs))\n",
    "ax.legend()\n",
    "ax.grid()"
   ],
   "id": "8ced25c2a86b5da8",
   "outputs": [
    {
     "data": {
      "text/plain": [
       "<Figure size 1000x600 with 1 Axes>"
      ],
      "image/png": "[encoded data removed]"
     },
     "metadata": {},
     "output_type": "display_data"
    }
   ],
   "execution_count": 48
  },
  {
   "metadata": {
    "ExecuteTime": {
     "end_time": "2024-10-08T19:59:23.767626Z",
     "start_time": "2024-10-08T19:36:43.766994Z"
    }
   },
   "cell_type": "code",
   "source": [
    "text = \"This film is good!\"\n",
    "\n",
    "predict_sentiment(text, lstm, tokenizer, vocab, device)"
   ],
   "id": "f98a5c12aaff6814",
   "outputs": [
    {
     "data": {
      "text/plain": [
       "(1, 0.6783404350280762)"
      ]
     },
     "execution_count": 49,
     "metadata": {},
     "output_type": "execute_result"
    }
   ],
   "execution_count": 49
  },
  {
   "metadata": {
    "ExecuteTime": {
     "end_time": "2024-10-08T19:59:23.767653Z",
     "start_time": "2024-10-08T19:36:43.801781Z"
    }
   },
   "cell_type": "code",
   "source": [
    "text = \"I have never seen something so unspectacular as this film. Its an absolute waste of time. There is no story, no acting, no nothing.\"\n",
    "\n",
    "predict_sentiment(text, lstm, tokenizer, vocab, device)"
   ],
   "id": "d16b92a419f2ed5b",
   "outputs": [
    {
     "data": {
      "text/plain": [
       "(0, 0.9915271401405334)"
      ]
     },
     "execution_count": 50,
     "metadata": {},
     "output_type": "execute_result"
    }
   ],
   "execution_count": 50
  },
  {
   "metadata": {},
   "cell_type": "code",
   "outputs": [],
   "execution_count": null,
   "source": [
    "text = \"This film is not terrible, it's great!\"\n",
    "\n",
    "predict_sentiment(text, model, tokenizer, vocab, device)"
   ],
   "id": "6d05d7da1dfe115c"
  },
  {
   "metadata": {},
   "cell_type": "code",
   "outputs": [],
   "execution_count": null,
   "source": [
    "text = \"This film is not great, it's terrible!\"\n",
    "\n",
    "predict_sentiment(text, model, tokenizer, vocab, device)"
   ],
   "id": "dbfe483737e33c97"
  },
  {
   "metadata": {
    "ExecuteTime": {
     "end_time": "2024-10-08T19:59:23.767705Z",
     "start_time": "2024-10-08T19:36:43.840926Z"
    }
   },
   "cell_type": "code",
   "source": "del lstm, metrics_lstm",
   "id": "5296baf1512c6cd3",
   "outputs": [],
   "execution_count": 51
  },
  {
   "cell_type": "markdown",
   "id": "5f39a319-9f6d-4097-9ac9-6cbc253ae73e",
   "metadata": {},
   "source": [
    "## Exercise 2: Attention and Transformer (hard)\n",
    "\n",
    "Even as this is not a seq2seq tasks, it would be possible to use attention and transformer ideas here. For example the encoder part and then just use a more simple decoder. "
   ]
  },
  {
   "cell_type": "code",
   "id": "732dca43-15f0-4962-9d1d-d7738349505e",
   "metadata": {
    "ExecuteTime": {
     "end_time": "2024-10-08T19:59:23.767726Z",
     "start_time": "2024-10-08T19:36:43.852508Z"
    }
   },
   "source": [
    "class TransformEnc(nn.Module):\n",
    "    def __init__(self, vocab_size, embedding_dim, num_heads, hidden_dim, output_dim, n_layers,\n",
    "                 dropout, pad_idx):\n",
    "        super().__init__()\n",
    "\n",
    "        self.embedding = nn.Embedding(vocab_size, embedding_dim, padding_idx=pad_idx)\n",
    "        self.positional_encoding = PositionalEncoding(embedding_dim, dropout)\n",
    "\n",
    "        # Transformer Encoder layers\n",
    "        encoder_layer = nn.TransformerEncoderLayer(d_model=embedding_dim, nhead=num_heads, dim_feedforward=hidden_dim,\n",
    "                                                   dropout=dropout, batch_first=True)\n",
    "        self.transformer_encoder = nn.TransformerEncoder(encoder_layer, num_layers=n_layers)\n",
    "\n",
    "        self.fc = nn.Linear(hidden_dim, output_dim)\n",
    "        self.dropout = nn.Dropout(dropout)\n",
    "\n",
    "    def forward(self, ids):\n",
    "        # ids = [batch size, seq len]\n",
    "        embedded = self.embedding(ids) * math.sqrt(self.embedding.embedding_dim)\n",
    "        embedded = self.positional_encoding(embedded)\n",
    "        # embedded = [batch size, seq len, embedding dim]\n",
    "\n",
    "        # Pass through transformer encoder\n",
    "        embedded = embedded.permute(1, 0, 2)  # Transformer expects input as [seq len, batch size, embedding dim]\n",
    "        transformer_out = self.transformer_encoder(embedded)\n",
    "        # transformer_out = [seq len, batch size, embedding dim]\n",
    "\n",
    "        # Take the mean over the sequence length for classification (other strategies like CLS token can be used as well)\n",
    "        transformer_out = transformer_out.mean(dim=0)\n",
    "\n",
    "        prediction = self.fc(self.dropout(transformer_out))\n",
    "        # prediction = [batch size, output dim]\n",
    "        return prediction\n",
    "\n",
    "\n",
    "class PositionalEncoding(nn.Module):\n",
    "    def __init__(self, d_model, dropout=0.1, max_len=5000):\n",
    "        super(PositionalEncoding, self).__init__()\n",
    "        self.dropout = nn.Dropout(p=dropout)\n",
    "\n",
    "        pe = torch.zeros(max_len, d_model)\n",
    "        position = torch.arange(0, max_len, dtype=torch.float).unsqueeze(1)\n",
    "        div_term = torch.exp(torch.arange(0, d_model, 2).float() * (-math.log(10000.0) / d_model))\n",
    "        pe[:, 0::2] = torch.sin(position * div_term)\n",
    "        pe[:, 1::2] = torch.cos(position * div_term)\n",
    "        pe = pe.unsqueeze(0).transpose(0, 1)\n",
    "        self.register_buffer('pe', pe)\n",
    "\n",
    "    def forward(self, x):\n",
    "        x = x + self.pe[:x.size(0), :]\n",
    "        return self.dropout(x)"
   ],
   "outputs": [],
   "execution_count": 52
  },
  {
   "metadata": {
    "ExecuteTime": {
     "end_time": "2024-10-08T19:59:23.767752Z",
     "start_time": "2024-10-08T19:36:43.868967Z"
    }
   },
   "cell_type": "code",
   "source": [
    "vocab_size = len(vocab)\n",
    "embedding_dim = 300\n",
    "hidden_dim = 300\n",
    "output_dim = len(train_data.unique(\"label\"))\n",
    "n_layers = 4\n",
    "dropout_rate = 0.5\n",
    "num_heads = 6\n",
    "\n",
    "enc = TransformEnc(\n",
    "    vocab_size,\n",
    "    embedding_dim,\n",
    "    num_heads,\n",
    "    hidden_dim,\n",
    "    output_dim,\n",
    "    n_layers,\n",
    "    dropout_rate,\n",
    "    pad_index,\n",
    ")\n",
    "\n",
    "print(f\"The model has {count_parameters(enc):,} trainable parameters\")"
   ],
   "id": "ebbcdb3e4bd92734",
   "outputs": [
    {
     "name": "stdout",
     "output_type": "stream",
     "text": [
      "The model has 8,663,102 trainable parameters\n"
     ]
    }
   ],
   "execution_count": 53
  },
  {
   "metadata": {
    "ExecuteTime": {
     "end_time": "2024-10-08T19:59:23.767776Z",
     "start_time": "2024-10-08T19:36:43.949683Z"
    }
   },
   "cell_type": "code",
   "source": "enc.embedding.weight.data = pretrained_embedding",
   "id": "4b6f6c700e546373",
   "outputs": [],
   "execution_count": 54
  },
  {
   "metadata": {
    "ExecuteTime": {
     "end_time": "2024-10-08T19:59:23.767795Z",
     "start_time": "2024-10-08T19:36:43.954922Z"
    }
   },
   "cell_type": "code",
   "source": [
    "batch_size = 265\n",
    "\n",
    "train_data_loader = get_data_loader(train_data, batch_size, pad_index, shuffle=True)\n",
    "valid_data_loader = get_data_loader(valid_data, batch_size, pad_index)\n",
    "test_data_loader = get_data_loader(test_data, batch_size, pad_index)"
   ],
   "id": "b0ec2a4cc6e0a6db",
   "outputs": [],
   "execution_count": 55
  },
  {
   "metadata": {
    "ExecuteTime": {
     "end_time": "2024-10-08T19:59:23.767817Z",
     "start_time": "2024-10-08T19:36:43.961914Z"
    }
   },
   "cell_type": "code",
   "source": [
    "lr = 5e-4\n",
    "optimizer = optim.Adam(enc.parameters(), lr=lr)\n",
    "criterion = nn.CrossEntropyLoss()\n",
    "\n",
    "enc = enc.to(device)\n",
    "criterion = criterion.to(device)\n",
    "n_epochs = 10\n",
    "best_valid_loss = float(\"inf\")\n",
    "\n",
    "metrics_enc = collections.defaultdict(list)"
   ],
   "id": "a05556f6c026a4b8",
   "outputs": [],
   "execution_count": 56
  },
  {
   "metadata": {
    "ExecuteTime": {
     "end_time": "2024-10-08T19:59:23.767836Z",
     "start_time": "2024-10-08T19:36:43.983076Z"
    }
   },
   "cell_type": "code",
   "source": [
    "if \"enc_transformer.pt\" in os.listdir():\n",
    "    enc.load_state_dict(torch.load(\"enc_transformer.pt\"))\n",
    "    with open('enc_transformer_train_metrics.pkl', 'rb') as file:\n",
    "        metrics_enc = pickle.load(file)\n",
    "    print(\"Model loaded\")\n",
    "else:\n",
    "    for epoch in range(n_epochs):\n",
    "        train_loss, train_acc = train(\n",
    "            train_data_loader, enc, criterion, optimizer, device\n",
    "        )\n",
    "        valid_loss, valid_acc = evaluate(valid_data_loader, enc, criterion, device)\n",
    "        metrics_enc[\"train_losses\"].append(train_loss)\n",
    "        metrics_enc[\"train_accs\"].append(train_acc)\n",
    "        metrics_enc[\"valid_losses\"].append(valid_loss)\n",
    "        metrics_enc[\"valid_accs\"].append(valid_acc)\n",
    "        if valid_loss < best_valid_loss:\n",
    "            best_valid_loss = valid_loss\n",
    "            torch.save(enc.state_dict(), \"enc_transformer.pt\")\n",
    "        print(f\"epoch: {epoch}\")\n",
    "        print(f\"train_loss: {train_loss:.3f}, train_acc: {train_acc:.3f}\")\n",
    "        print(f\"valid_loss: {valid_loss:.3f}, valid_acc: {valid_acc:.3f}\")\n",
    "    # save metrics to file system\n",
    "    with open('enc_transformer_train_metrics.pkl', 'wb') as file:\n",
    "        pickle.dump(metrics_enc, file)"
   ],
   "id": "a6fe9d68ed5f868e",
   "outputs": [
    {
     "name": "stdout",
     "output_type": "stream",
     "text": [
      "Model loaded\n"
     ]
    }
   ],
   "execution_count": 57
  },
  {
   "metadata": {
    "ExecuteTime": {
     "end_time": "2024-10-08T19:59:23.767860Z",
     "start_time": "2024-10-08T19:36:44.078074Z"
    }
   },
   "cell_type": "code",
   "source": [
    "fig = plt.figure(figsize=(10, 6))\n",
    "ax = fig.add_subplot(1, 1, 1)\n",
    "ax.plot(metrics_enc[\"train_accs\"], label=\"train accuracy\")\n",
    "ax.plot(metrics_enc[\"valid_accs\"], label=\"valid accuracy\")\n",
    "ax.set_xlabel(\"epoch\")\n",
    "ax.set_ylabel(\"loss\")\n",
    "ax.set_xticks(range(n_epochs))\n",
    "ax.legend()\n",
    "ax.grid()"
   ],
   "id": "1f015f201b293ae",
   "outputs": [
    {
     "data": {
      "text/plain": [
       "<Figure size 1000x600 with 1 Axes>"
      ],
      "image/png": "[encoded data removed]"
     },
     "metadata": {},
     "output_type": "display_data"
    }
   ],
   "execution_count": 58
  },
  {
   "metadata": {},
   "cell_type": "code",
   "outputs": [],
   "execution_count": null,
   "source": [
    "fig = plt.figure(figsize=(10, 6))\n",
    "ax = fig.add_subplot(1, 1, 1)\n",
    "ax.plot(metrics_enc[\"train_accs\"], label=\"train accuracy\")\n",
    "ax.plot(metrics_enc[\"valid_accs\"], label=\"valid accuracy\")\n",
    "ax.set_xlabel(\"epoch\")\n",
    "ax.set_ylabel(\"loss\")\n",
    "ax.set_xticks(range(n_epochs))\n",
    "ax.legend()\n",
    "ax.grid()"
   ],
   "id": "8e4e693127895a14"
  },
  {
   "metadata": {
    "ExecuteTime": {
     "end_time": "2024-10-08T19:59:23.767899Z",
     "start_time": "2024-10-08T19:36:44.137252Z"
    }
   },
   "cell_type": "code",
   "source": [
    "text = \"This film is good!\"\n",
    "\n",
    "predict_sentiment(text, enc, tokenizer, vocab, device)"
   ],
   "id": "1f2a7973598f208c",
   "outputs": [
    {
     "data": {
      "text/plain": [
       "(0, 0.6911198496818542)"
      ]
     },
     "execution_count": 59,
     "metadata": {},
     "output_type": "execute_result"
    }
   ],
   "execution_count": 59
  },
  {
   "metadata": {
    "ExecuteTime": {
     "end_time": "2024-10-08T19:59:23.767921Z",
     "start_time": "2024-10-08T19:36:44.388442Z"
    }
   },
   "cell_type": "code",
   "source": [
    "text = \"I have never seen something so unspectacular as this film. Its an absolute waste of time. There is no story, no acting, no nothing.\"\n",
    "\n",
    "predict_sentiment(text, enc, tokenizer, vocab, device)"
   ],
   "id": "d3dfd75f9abb5999",
   "outputs": [
    {
     "data": {
      "text/plain": [
       "(0, 0.5600530505180359)"
      ]
     },
     "execution_count": 60,
     "metadata": {},
     "output_type": "execute_result"
    }
   ],
   "execution_count": 60
  },
  {
   "metadata": {},
   "cell_type": "code",
   "outputs": [],
   "execution_count": null,
   "source": [
    "text = \"This film is not terrible, it's great!\"\n",
    "\n",
    "predict_sentiment(text, model, tokenizer, vocab, device)"
   ],
   "id": "678082f22f79a54d"
  },
  {
   "metadata": {},
   "cell_type": "code",
   "outputs": [],
   "execution_count": null,
   "source": [
    "predict_sentiment(text, model, tokenizer, vocab, device)\n",
    "text = \"This film is not great, it's terrible!\"\n",
    "\n",
    "predict_sentiment(text, model, tokenizer, vocab, device)"
   ],
   "id": "bc743df72c1afa83"
  }
 ],
 "metadata": {
  "kernelspec": {
   "display_name": "Python 3 (ipykernel)",
   "language": "python",
   "name": "python3"
  },
  "language_info": {
   "codemirror_mode": {
    "name": "ipython",
    "version": 3
   },
   "file_extension": ".py",
   "mimetype": "text/x-python",
   "name": "python",
   "nbconvert_exporter": "python",
   "pygments_lexer": "ipython3",
   "version": "3.12.4"
  }
 },
 "nbformat": 4,
 "nbformat_minor": 5
}
