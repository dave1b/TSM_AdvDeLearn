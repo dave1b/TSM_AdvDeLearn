{
 "cells": [
  {
   "cell_type": "code",
   "id": "initial_id",
   "metadata": {
    "collapsed": true,
    "ExecuteTime": {
     "end_time": "2024-09-25T05:38:48.316897Z",
     "start_time": "2024-09-25T05:38:46.998321Z"
    }
   },
   "source": [
    "import os\n",
    "from PIL import Image\n",
    "import numpy as np\n",
    "\n",
    "path = \"data/OxfordIIITPet/oxford-iiit-pet/images\"\n",
    "widths = []\n",
    "heights = []\n",
    "\n",
    "n_images = 0\n",
    "for filename in os.listdir(path):\n",
    "    if filename.endswith(('.png', '.jpg', '.jpeg', '.bmp', '.gif')):\n",
    "        with Image.open(os.path.join(path, filename)) as img:\n",
    "            n_images = n_images + 1\n",
    "            width, height = img.size\n",
    "            widths.append(width)\n",
    "            heights.append(height)\n",
    "\n",
    "widths = np.array(widths)\n",
    "heights = np.array(heights)\n",
    "\n",
    "max_width = np.max(widths)\n",
    "min_width = np.min(widths)\n",
    "mean_width = np.mean(widths)\n",
    "\n",
    "max_height = np.max(heights)\n",
    "min_height = np.min(heights)\n",
    "mean_height = np.mean(heights)\n",
    "\n",
    "print(f'Max Width: {max_width}, Min Width: {min_width}, Mean Width: {mean_width:.2f}')\n",
    "print(f'Max Height: {max_height}, Min Height: {min_height}, Mean Height: {mean_height:.2f}')\n",
    "print(f\"{n_images} have been analyzed\")"
   ],
   "outputs": [
    {
     "name": "stdout",
     "output_type": "stream",
     "text": [
      "Max Width: 3264, Min Width: 114, Mean Width: 436.75\n",
      "Max Height: 2606, Min Height: 103, Mean Height: 390.91\n",
      "7390 have been analyzed\n"
     ]
    }
   ],
   "execution_count": 11
  }
 ],
 "metadata": {
  "kernelspec": {
   "display_name": "Python 3",
   "language": "python",
   "name": "python3"
  },
  "language_info": {
   "codemirror_mode": {
    "name": "ipython",
    "version": 2
   },
   "file_extension": ".py",
   "mimetype": "text/x-python",
   "name": "python",
   "nbconvert_exporter": "python",
   "pygments_lexer": "ipython2",
   "version": "2.7.6"
  }
 },
 "nbformat": 4,
 "nbformat_minor": 5
}
